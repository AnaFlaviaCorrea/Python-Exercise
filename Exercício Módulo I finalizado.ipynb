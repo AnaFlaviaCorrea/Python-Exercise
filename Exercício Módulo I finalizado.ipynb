{
 "cells": [
  {
   "cell_type": "code",
   "execution_count": 4,
   "id": "d00d50c2",
   "metadata": {},
   "outputs": [
    {
     "name": "stdout",
     "output_type": "stream",
     "text": [
      "Insira a quantidade de coca vendida 150\n",
      "Insira a quantidade de pepsi vendida 130\n",
      "Insira o preço da coca1.5\n",
      "Insira o preço da pepsi1.5\n"
     ]
    }
   ],
   "source": [
    "qtd_vendas_coca = int(input('Insira a quantidade de coca vendida' + ' ') )\n",
    "qtd_vendas_pepsi = int(input('Insira a quantidade de pepsi vendida' + ' ') )\n",
    "preco_coca = float(input('Insira o preço da coca')) \n",
    "preco_pepsi = float(input('Insira o preço da pepsi'))\n",
    "custo_loja = 2500\n",
    "faturamento_pepsi = qtd_vendas_pepsi * preco_pepsi\n",
    "faturamento_coca = qtd_vendas_coca * preco_coca\n",
    "faturamento_total = (faturamento_pepsi + faturamento_coca)\n",
    "lucro = (faturamento_total - custo_loja)\n",
    "margem = lucro / faturamento_total\n"
   ]
  },
  {
   "cell_type": "code",
   "execution_count": 5,
   "id": "70135a90",
   "metadata": {},
   "outputs": [
    {
     "name": "stdout",
     "output_type": "stream",
     "text": [
      "O faturamento da Pepsi foi 195.0\n",
      "O faturamento da Coca foi 225.0\n",
      "O lucro foi de -2080.0\n",
      "A margem foi de -4.9523809523809526\n"
     ]
    }
   ],
   "source": [
    "print('O faturamento da Pepsi foi ' + str(faturamento_pepsi))\n",
    "print('O faturamento da Coca foi ' + str(faturamento_coca))\n",
    "print('O lucro foi de ' + str(lucro))\n",
    "print('A margem foi de ' + str(margem))"
   ]
  },
  {
   "cell_type": "code",
   "execution_count": null,
   "id": "2e059972",
   "metadata": {},
   "outputs": [],
   "source": []
  }
 ],
 "metadata": {
  "kernelspec": {
   "display_name": "Python 3 (ipykernel)",
   "language": "python",
   "name": "python3"
  },
  "language_info": {
   "codemirror_mode": {
    "name": "ipython",
    "version": 3
   },
   "file_extension": ".py",
   "mimetype": "text/x-python",
   "name": "python",
   "nbconvert_exporter": "python",
   "pygments_lexer": "ipython3",
   "version": "3.9.7"
  }
 },
 "nbformat": 4,
 "nbformat_minor": 5
}
